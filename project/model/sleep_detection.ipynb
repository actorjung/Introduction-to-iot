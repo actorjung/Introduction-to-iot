{
 "cells": [
  {
   "cell_type": "code",
   "execution_count": 8,
   "metadata": {
    "executionInfo": {
     "elapsed": 2903,
     "status": "ok",
     "timestamp": 1667202305401,
     "user": {
      "displayName": "조솬",
      "userId": "05289881490201637579"
     },
     "user_tz": -540
    },
    "id": "xhbbGd4Rum0u"
   },
   "outputs": [],
   "source": [
    "import datetime\n",
    "import numpy as np\n",
    "import matplotlib.pyplot as plt\n",
    "from keras.layers import Input,Activation,Conv2D,Flatten,Dense,MaxPooling2D\n",
    "from keras.models import Model,load_model\n",
    "from keras.preprocessing.image import ImageDataGenerator\n",
    "from keras.callbacks import ModelCheckpoint,ReduceLROnPlateau\n",
    "from sklearn.metrics import accuracy_score, confusion_matrix,classification_report\n",
    "from sklearn.metrics import roc_curve,auc,roc_auc_score\n",
    "from sklearn.preprocessing import LabelBinarizer\n",
    "import seaborn as sns\n",
    "import tensorflow as tf\n",
    "import keras\n",
    "from itertools import cycle\n"
   ]
  },
  {
   "cell_type": "code",
   "execution_count": 2,
   "metadata": {
    "colab": {
     "base_uri": "https://localhost:8080/"
    },
    "executionInfo": {
     "elapsed": 4470,
     "status": "ok",
     "timestamp": 1667202319033,
     "user": {
      "displayName": "조솬",
      "userId": "05289881490201637579"
     },
     "user_tz": -540
    },
    "id": "Jg0iYJqvwqfo",
    "outputId": "03d7eb9b-48fc-4f25-ad58-10418fdb57bb"
   },
   "outputs": [
    {
     "name": "stdout",
     "output_type": "stream",
     "text": [
      "(2586, 26, 34, 1) (2586, 1)\n",
      "(288, 26, 34, 1) (288, 1)\n"
     ]
    }
   ],
   "source": [
    "x_train=np.load('dataset/x_train.npy').astype(np.float32)\n",
    "y_train=np.load('dataset/y_train.npy').astype(np.float32)\n",
    "x_val=np.load('dataset/x_val.npy').astype(np.float32)\n",
    "y_val=np.load('dataset/y_val.npy').astype(np.float32)\n",
    "\n",
    "print(x_train.shape,y_train.shape)\n",
    "print(x_val.shape,y_val.shape)"
   ]
  },
  {
   "cell_type": "code",
   "execution_count": 3,
   "metadata": {},
   "outputs": [],
   "source": [
    "CLASS_LABELS=['0','1']"
   ]
  },
  {
   "cell_type": "code",
   "execution_count": 4,
   "metadata": {
    "colab": {
     "base_uri": "https://localhost:8080/",
     "height": 299
    },
    "executionInfo": {
     "elapsed": 34,
     "status": "ok",
     "timestamp": 1667202322813,
     "user": {
      "displayName": "조솬",
      "userId": "05289881490201637579"
     },
     "user_tz": -540
    },
    "id": "mDDtHofw9pMn",
    "outputId": "a2018871-8958-4ee9-c3c1-d5851d90b2e5"
   },
   "outputs": [
    {
     "data": {
      "text/plain": [
       "<matplotlib.image.AxesImage at 0x16b3cfd16a0>"
      ]
     },
     "execution_count": 4,
     "metadata": {},
     "output_type": "execute_result"
    },
    {
     "data": {
      "image/png": "[encoded data removed]",
      "text/plain": [
       "<Figure size 640x480 with 2 Axes>"
      ]
     },
     "metadata": {},
     "output_type": "display_data"
    }
   ],
   "source": [
    "plt.subplot(2, 1, 1)\n",
    "plt.title(str(y_train[0]))\n",
    "plt.imshow(x_train[0].reshape((26, 34)), cmap='gray')\n",
    "plt.subplot(2, 1, 2)\n",
    "plt.title(str(y_val[4]))\n",
    "plt.imshow(x_val[4].reshape((26, 34)), cmap='gray')"
   ]
  },
  {
   "cell_type": "code",
   "execution_count": 5,
   "metadata": {
    "executionInfo": {
     "elapsed": 10,
     "status": "ok",
     "timestamp": 1667202325381,
     "user": {
      "displayName": "조솬",
      "userId": "05289881490201637579"
     },
     "user_tz": -540
    },
    "id": "RdJSkkbG-15V"
   },
   "outputs": [],
   "source": [
    "train_datagen = ImageDataGenerator(\n",
    "    rescale=1./255,\n",
    "    rotation_range=10,\n",
    "    width_shift_range=0.2,\n",
    "    height_shift_range=0.2,\n",
    "    shear_range=0.2\n",
    ")\n",
    "\n",
    "val_datagen = ImageDataGenerator(rescale=1./255)\n",
    "\n",
    "train_generator = train_datagen.flow(\n",
    "    x=x_train, y=y_train,\n",
    "    batch_size=32,\n",
    "    shuffle=True\n",
    ")\n",
    "\n",
    "val_generator = val_datagen.flow(\n",
    "    x=x_val, y=y_val,\n",
    "    batch_size=32,\n",
    "    shuffle=False\n",
    ")"
   ]
  },
  {
   "cell_type": "code",
   "execution_count": 6,
   "metadata": {
    "colab": {
     "base_uri": "https://localhost:8080/"
    },
    "executionInfo": {
     "elapsed": 2694,
     "status": "ok",
     "timestamp": 1667202330642,
     "user": {
      "displayName": "조솬",
      "userId": "05289881490201637579"
     },
     "user_tz": -540
    },
    "id": "gjNkOspd_H4p",
    "outputId": "f7e452ba-eb0a-4259-bdd4-03e0fe91b880"
   },
   "outputs": [
    {
     "name": "stdout",
     "output_type": "stream",
     "text": [
      "Model: \"model\"\n",
      "_________________________________________________________________\n",
      " Layer (type)                Output Shape              Param #   \n",
      "=================================================================\n",
      " input_1 (InputLayer)        [(None, 26, 34, 1)]       0         \n",
      "                                                                 \n",
      " conv2d (Conv2D)             (None, 26, 34, 32)        320       \n",
      "                                                                 \n",
      " max_pooling2d (MaxPooling2D  (None, 13, 17, 32)       0         \n",
      " )                                                               \n",
      "                                                                 \n",
      " conv2d_1 (Conv2D)           (None, 13, 17, 64)        18496     \n",
      "                                                                 \n",
      " max_pooling2d_1 (MaxPooling  (None, 6, 8, 64)         0         \n",
      " 2D)                                                             \n",
      "                                                                 \n",
      " conv2d_2 (Conv2D)           (None, 6, 8, 128)         73856     \n",
      "                                                                 \n",
      " max_pooling2d_2 (MaxPooling  (None, 3, 4, 128)        0         \n",
      " 2D)                                                             \n",
      "                                                                 \n",
      " flatten (Flatten)           (None, 1536)              0         \n",
      "                                                                 \n",
      " dense (Dense)               (None, 512)               786944    \n",
      "                                                                 \n",
      " activation (Activation)     (None, 512)               0         \n",
      "                                                                 \n",
      " dense_1 (Dense)             (None, 1)                 513       \n",
      "                                                                 \n",
      " activation_1 (Activation)   (None, 1)                 0         \n",
      "                                                                 \n",
      "=================================================================\n",
      "Total params: 880,129\n",
      "Trainable params: 880,129\n",
      "Non-trainable params: 0\n",
      "_________________________________________________________________\n"
     ]
    }
   ],
   "source": [
    "inputs = Input(shape=(26, 34, 1))\n",
    "\n",
    "net = Conv2D(32, kernel_size=3, strides=1, padding='same', activation='relu')(inputs)\n",
    "net = MaxPooling2D(pool_size=2)(net)\n",
    "\n",
    "net = Conv2D(64, kernel_size=3, strides=1, padding='same', activation='relu')(net)\n",
    "net = MaxPooling2D(pool_size=2)(net)\n",
    "\n",
    "net = Conv2D(128, kernel_size=3, strides=1, padding='same', activation='relu')(net)\n",
    "net = MaxPooling2D(pool_size=2)(net)\n",
    "\n",
    "net = Flatten()(net)\n",
    "\n",
    "net = Dense(512)(net)\n",
    "net = Activation('relu')(net)\n",
    "net = Dense(1)(net)\n",
    "outputs = Activation('sigmoid')(net)\n",
    "\n",
    "model = Model(inputs=inputs, outputs=outputs)\n",
    "\n",
    "model.compile(optimizer='adam', loss='binary_crossentropy', metrics=['acc'])\n",
    "\n",
    "model.summary()"
   ]
  },
  {
   "cell_type": "code",
   "execution_count": 9,
   "metadata": {
    "colab": {
     "base_uri": "https://localhost:8080/"
    },
    "executionInfo": {
     "elapsed": 84387,
     "status": "ok",
     "timestamp": 1667202473264,
     "user": {
      "displayName": "조솬",
      "userId": "05289881490201637579"
     },
     "user_tz": -540
    },
    "id": "IwYl5d12_0Ux",
    "outputId": "ddd393d3-a6c5-4491-ca1b-dda1bf2125fc"
   },
   "outputs": [
    {
     "name": "stdout",
     "output_type": "stream",
     "text": [
      "Epoch 1/100\n",
      "80/81 [============================>.] - ETA: 0s - loss: 0.5138 - acc: 0.7616\n",
      "Epoch 1: val_acc improved from -inf to 0.86806, saving model to models\\2022_11_13_23_07_42.h5\n",
      "81/81 [==============================] - 7s 15ms/step - loss: 0.5125 - acc: 0.7626 - val_loss: 0.2968 - val_acc: 0.8681 - lr: 0.0010\n",
      "Epoch 2/100\n",
      "77/81 [===========================>..] - ETA: 0s - loss: 0.2760 - acc: 0.8906\n",
      "Epoch 2: val_acc improved from 0.86806 to 0.91319, saving model to models\\2022_11_13_23_07_42.h5\n",
      "81/81 [==============================] - 1s 9ms/step - loss: 0.2743 - acc: 0.8917 - val_loss: 0.2159 - val_acc: 0.9132 - lr: 0.0010\n",
      "Epoch 3/100\n",
      "78/81 [===========================>..] - ETA: 0s - loss: 0.1954 - acc: 0.9269\n",
      "Epoch 3: val_acc improved from 0.91319 to 0.95139, saving model to models\\2022_11_13_23_07_42.h5\n",
      "81/81 [==============================] - 1s 9ms/step - loss: 0.1935 - acc: 0.9281 - val_loss: 0.1163 - val_acc: 0.9514 - lr: 0.0010\n",
      "Epoch 4/100\n",
      "77/81 [===========================>..] - ETA: 0s - loss: 0.1306 - acc: 0.9540\n",
      "Epoch 4: val_acc improved from 0.95139 to 0.96875, saving model to models\\2022_11_13_23_07_42.h5\n",
      "81/81 [==============================] - 1s 9ms/step - loss: 0.1313 - acc: 0.9532 - val_loss: 0.1122 - val_acc: 0.9688 - lr: 0.0010\n",
      "Epoch 5/100\n",
      "78/81 [===========================>..] - ETA: 0s - loss: 0.0954 - acc: 0.9667\n",
      "Epoch 5: val_acc improved from 0.96875 to 0.98264, saving model to models\\2022_11_13_23_07_42.h5\n",
      "81/81 [==============================] - 1s 9ms/step - loss: 0.0943 - acc: 0.9675 - val_loss: 0.0818 - val_acc: 0.9826 - lr: 0.0010\n",
      "Epoch 6/100\n",
      "76/81 [===========================>..] - ETA: 0s - loss: 0.0847 - acc: 0.9678\n",
      "Epoch 6: val_acc did not improve from 0.98264\n",
      "81/81 [==============================] - 1s 9ms/step - loss: 0.0828 - acc: 0.9691 - val_loss: 0.0974 - val_acc: 0.9826 - lr: 0.0010\n",
      "Epoch 7/100\n",
      "78/81 [===========================>..] - ETA: 0s - loss: 0.0686 - acc: 0.9800\n",
      "Epoch 7: val_acc did not improve from 0.98264\n",
      "81/81 [==============================] - 1s 8ms/step - loss: 0.0700 - acc: 0.9791 - val_loss: 0.1143 - val_acc: 0.9688 - lr: 0.0010\n",
      "Epoch 8/100\n",
      "78/81 [===========================>..] - ETA: 0s - loss: 0.0682 - acc: 0.9783\n",
      "Epoch 8: val_acc improved from 0.98264 to 0.98611, saving model to models\\2022_11_13_23_07_42.h5\n",
      "81/81 [==============================] - 1s 9ms/step - loss: 0.0710 - acc: 0.9783 - val_loss: 0.0828 - val_acc: 0.9861 - lr: 0.0010\n",
      "Epoch 9/100\n",
      "81/81 [==============================] - ETA: 0s - loss: 0.0727 - acc: 0.9799\n",
      "Epoch 9: val_acc did not improve from 0.98611\n",
      "81/81 [==============================] - 1s 9ms/step - loss: 0.0727 - acc: 0.9799 - val_loss: 0.0958 - val_acc: 0.9792 - lr: 0.0010\n",
      "Epoch 10/100\n",
      "78/81 [===========================>..] - ETA: 0s - loss: 0.0566 - acc: 0.9795\n",
      "Epoch 10: val_acc improved from 0.98611 to 0.98958, saving model to models\\2022_11_13_23_07_42.h5\n",
      "81/81 [==============================] - 1s 9ms/step - loss: 0.0551 - acc: 0.9803 - val_loss: 0.0866 - val_acc: 0.9896 - lr: 0.0010\n",
      "Epoch 11/100\n",
      "76/81 [===========================>..] - ETA: 0s - loss: 0.0638 - acc: 0.9819\n",
      "Epoch 11: val_acc did not improve from 0.98958\n",
      "81/81 [==============================] - 1s 9ms/step - loss: 0.0618 - acc: 0.9818 - val_loss: 0.0795 - val_acc: 0.9896 - lr: 0.0010\n",
      "Epoch 12/100\n",
      "78/81 [===========================>..] - ETA: 0s - loss: 0.0568 - acc: 0.9811\n",
      "Epoch 12: val_acc did not improve from 0.98958\n",
      "81/81 [==============================] - 1s 8ms/step - loss: 0.0599 - acc: 0.9803 - val_loss: 0.1447 - val_acc: 0.9583 - lr: 0.0010\n",
      "Epoch 13/100\n",
      "78/81 [===========================>..] - ETA: 0s - loss: 0.0409 - acc: 0.9896\n",
      "Epoch 13: val_acc did not improve from 0.98958\n",
      "81/81 [==============================] - 1s 8ms/step - loss: 0.0400 - acc: 0.9896 - val_loss: 0.1018 - val_acc: 0.9861 - lr: 0.0010\n",
      "Epoch 14/100\n",
      "77/81 [===========================>..] - ETA: 0s - loss: 0.0423 - acc: 0.9874\n",
      "Epoch 14: val_acc did not improve from 0.98958\n",
      "81/81 [==============================] - 1s 9ms/step - loss: 0.0409 - acc: 0.9880 - val_loss: 0.1032 - val_acc: 0.9826 - lr: 0.0010\n",
      "Epoch 15/100\n",
      "77/81 [===========================>..] - ETA: 0s - loss: 0.0368 - acc: 0.9878\n",
      "Epoch 15: val_acc did not improve from 0.98958\n",
      "81/81 [==============================] - 1s 8ms/step - loss: 0.0354 - acc: 0.9884 - val_loss: 0.0654 - val_acc: 0.9896 - lr: 0.0010\n",
      "Epoch 16/100\n",
      "78/81 [===========================>..] - ETA: 0s - loss: 0.0355 - acc: 0.9896\n",
      "Epoch 16: val_acc did not improve from 0.98958\n",
      "81/81 [==============================] - 1s 8ms/step - loss: 0.0356 - acc: 0.9896 - val_loss: 0.1028 - val_acc: 0.9861 - lr: 0.0010\n",
      "Epoch 17/100\n",
      "76/81 [===========================>..] - ETA: 0s - loss: 0.0257 - acc: 0.9922\n",
      "Epoch 17: val_acc did not improve from 0.98958\n",
      "81/81 [==============================] - 1s 9ms/step - loss: 0.0251 - acc: 0.9923 - val_loss: 0.0817 - val_acc: 0.9861 - lr: 0.0010\n",
      "Epoch 18/100\n",
      "78/81 [===========================>..] - ETA: 0s - loss: 0.0408 - acc: 0.9888\n",
      "Epoch 18: val_acc did not improve from 0.98958\n",
      "81/81 [==============================] - 1s 9ms/step - loss: 0.0398 - acc: 0.9892 - val_loss: 0.0643 - val_acc: 0.9861 - lr: 0.0010\n",
      "Epoch 19/100\n",
      "78/81 [===========================>..] - ETA: 0s - loss: 0.0337 - acc: 0.9892\n",
      "Epoch 19: val_acc did not improve from 0.98958\n",
      "81/81 [==============================] - 1s 8ms/step - loss: 0.0337 - acc: 0.9892 - val_loss: 0.0666 - val_acc: 0.9861 - lr: 0.0010\n",
      "Epoch 20/100\n",
      "78/81 [===========================>..] - ETA: 0s - loss: 0.0329 - acc: 0.9876\n",
      "Epoch 20: val_acc did not improve from 0.98958\n",
      "\n",
      "Epoch 20: ReduceLROnPlateau reducing learning rate to 0.00020000000949949026.\n",
      "81/81 [==============================] - 1s 9ms/step - loss: 0.0326 - acc: 0.9876 - val_loss: 0.0674 - val_acc: 0.9861 - lr: 0.0010\n",
      "Epoch 21/100\n",
      "77/81 [===========================>..] - ETA: 0s - loss: 0.0213 - acc: 0.9923\n",
      "Epoch 21: val_acc did not improve from 0.98958\n",
      "81/81 [==============================] - 1s 9ms/step - loss: 0.0210 - acc: 0.9923 - val_loss: 0.0619 - val_acc: 0.9896 - lr: 2.0000e-04\n",
      "Epoch 22/100\n",
      "78/81 [===========================>..] - ETA: 0s - loss: 0.0124 - acc: 0.9972\n",
      "Epoch 22: val_acc did not improve from 0.98958\n",
      "81/81 [==============================] - 1s 9ms/step - loss: 0.0129 - acc: 0.9969 - val_loss: 0.0705 - val_acc: 0.9861 - lr: 2.0000e-04\n",
      "Epoch 23/100\n",
      "81/81 [==============================] - ETA: 0s - loss: 0.0134 - acc: 0.9965\n",
      "Epoch 23: val_acc did not improve from 0.98958\n",
      "81/81 [==============================] - 1s 9ms/step - loss: 0.0134 - acc: 0.9965 - val_loss: 0.0688 - val_acc: 0.9861 - lr: 2.0000e-04\n",
      "Epoch 24/100\n",
      "78/81 [===========================>..] - ETA: 0s - loss: 0.0109 - acc: 0.9960\n",
      "Epoch 24: val_acc did not improve from 0.98958\n",
      "81/81 [==============================] - 1s 8ms/step - loss: 0.0127 - acc: 0.9957 - val_loss: 0.0740 - val_acc: 0.9861 - lr: 2.0000e-04\n",
      "Epoch 25/100\n",
      "78/81 [===========================>..] - ETA: 0s - loss: 0.0137 - acc: 0.9948\n",
      "Epoch 25: val_acc did not improve from 0.98958\n",
      "81/81 [==============================] - 1s 8ms/step - loss: 0.0147 - acc: 0.9942 - val_loss: 0.0770 - val_acc: 0.9896 - lr: 2.0000e-04\n",
      "Epoch 26/100\n",
      "77/81 [===========================>..] - ETA: 0s - loss: 0.0130 - acc: 0.9967\n",
      "Epoch 26: val_acc did not improve from 0.98958\n",
      "81/81 [==============================] - 1s 9ms/step - loss: 0.0127 - acc: 0.9969 - val_loss: 0.0773 - val_acc: 0.9896 - lr: 2.0000e-04\n",
      "Epoch 27/100\n",
      "81/81 [==============================] - ETA: 0s - loss: 0.0155 - acc: 0.9946\n",
      "Epoch 27: val_acc did not improve from 0.98958\n",
      "81/81 [==============================] - 1s 9ms/step - loss: 0.0155 - acc: 0.9946 - val_loss: 0.0743 - val_acc: 0.9896 - lr: 2.0000e-04\n",
      "Epoch 28/100\n",
      "78/81 [===========================>..] - ETA: 0s - loss: 0.0125 - acc: 0.9956\n",
      "Epoch 28: val_acc did not improve from 0.98958\n",
      "81/81 [==============================] - 1s 9ms/step - loss: 0.0122 - acc: 0.9957 - val_loss: 0.0666 - val_acc: 0.9896 - lr: 2.0000e-04\n",
      "Epoch 29/100\n",
      "76/81 [===========================>..] - ETA: 0s - loss: 0.0161 - acc: 0.9946\n",
      "Epoch 29: val_acc did not improve from 0.98958\n",
      "81/81 [==============================] - 1s 9ms/step - loss: 0.0152 - acc: 0.9950 - val_loss: 0.0697 - val_acc: 0.9896 - lr: 2.0000e-04\n",
      "Epoch 30/100\n",
      "78/81 [===========================>..] - ETA: 0s - loss: 0.0122 - acc: 0.9956\n",
      "Epoch 30: val_acc did not improve from 0.98958\n",
      "\n",
      "Epoch 30: ReduceLROnPlateau reducing learning rate to 4.0000001899898055e-05.\n",
      "81/81 [==============================] - 1s 8ms/step - loss: 0.0132 - acc: 0.9954 - val_loss: 0.0717 - val_acc: 0.9861 - lr: 2.0000e-04\n",
      "Epoch 31/100\n",
      "78/81 [===========================>..] - ETA: 0s - loss: 0.0095 - acc: 0.9964\n",
      "Epoch 31: val_acc did not improve from 0.98958\n",
      "81/81 [==============================] - 1s 8ms/step - loss: 0.0095 - acc: 0.9965 - val_loss: 0.0703 - val_acc: 0.9861 - lr: 4.0000e-05\n",
      "Epoch 32/100\n",
      "78/81 [===========================>..] - ETA: 0s - loss: 0.0095 - acc: 0.9984\n",
      "Epoch 32: val_acc did not improve from 0.98958\n",
      "81/81 [==============================] - 1s 9ms/step - loss: 0.0093 - acc: 0.9985 - val_loss: 0.0701 - val_acc: 0.9896 - lr: 4.0000e-05\n",
      "Epoch 33/100\n",
      "78/81 [===========================>..] - ETA: 0s - loss: 0.0099 - acc: 0.9948\n",
      "Epoch 33: val_acc did not improve from 0.98958\n",
      "81/81 [==============================] - 1s 8ms/step - loss: 0.0097 - acc: 0.9950 - val_loss: 0.0698 - val_acc: 0.9896 - lr: 4.0000e-05\n",
      "Epoch 34/100\n",
      "78/81 [===========================>..] - ETA: 0s - loss: 0.0104 - acc: 0.9952\n",
      "Epoch 34: val_acc did not improve from 0.98958\n",
      "81/81 [==============================] - 1s 8ms/step - loss: 0.0102 - acc: 0.9954 - val_loss: 0.0701 - val_acc: 0.9896 - lr: 4.0000e-05\n",
      "Epoch 35/100\n",
      "81/81 [==============================] - ETA: 0s - loss: 0.0103 - acc: 0.9973\n",
      "Epoch 35: val_acc did not improve from 0.98958\n",
      "81/81 [==============================] - 1s 9ms/step - loss: 0.0103 - acc: 0.9973 - val_loss: 0.0696 - val_acc: 0.9896 - lr: 4.0000e-05\n",
      "Epoch 36/100\n",
      "81/81 [==============================] - ETA: 0s - loss: 0.0094 - acc: 0.9969\n",
      "Epoch 36: val_acc did not improve from 0.98958\n",
      "81/81 [==============================] - 1s 9ms/step - loss: 0.0094 - acc: 0.9969 - val_loss: 0.0708 - val_acc: 0.9861 - lr: 4.0000e-05\n",
      "Epoch 37/100\n",
      "75/81 [==========================>...] - ETA: 0s - loss: 0.0078 - acc: 0.9979\n",
      "Epoch 37: val_acc did not improve from 0.98958\n",
      "81/81 [==============================] - 1s 9ms/step - loss: 0.0077 - acc: 0.9981 - val_loss: 0.0696 - val_acc: 0.9896 - lr: 4.0000e-05\n",
      "Epoch 38/100\n",
      "77/81 [===========================>..] - ETA: 0s - loss: 0.0079 - acc: 0.9963\n",
      "Epoch 38: val_acc did not improve from 0.98958\n",
      "81/81 [==============================] - 1s 9ms/step - loss: 0.0095 - acc: 0.9954 - val_loss: 0.0697 - val_acc: 0.9861 - lr: 4.0000e-05\n",
      "Epoch 39/100\n",
      "76/81 [===========================>..] - ETA: 0s - loss: 0.0081 - acc: 0.9975\n",
      "Epoch 39: val_acc did not improve from 0.98958\n",
      "81/81 [==============================] - 1s 9ms/step - loss: 0.0083 - acc: 0.9973 - val_loss: 0.0715 - val_acc: 0.9896 - lr: 4.0000e-05\n",
      "Epoch 40/100\n",
      "78/81 [===========================>..] - ETA: 0s - loss: 0.0093 - acc: 0.9972\n",
      "Epoch 40: val_acc did not improve from 0.98958\n",
      "\n",
      "Epoch 40: ReduceLROnPlateau reducing learning rate to 1e-05.\n",
      "81/81 [==============================] - 1s 9ms/step - loss: 0.0093 - acc: 0.9973 - val_loss: 0.0680 - val_acc: 0.9861 - lr: 4.0000e-05\n",
      "Epoch 41/100\n",
      "78/81 [===========================>..] - ETA: 0s - loss: 0.0066 - acc: 0.9980\n",
      "Epoch 41: val_acc did not improve from 0.98958\n",
      "81/81 [==============================] - 1s 9ms/step - loss: 0.0064 - acc: 0.9981 - val_loss: 0.0687 - val_acc: 0.9896 - lr: 1.0000e-05\n",
      "Epoch 42/100\n",
      "76/81 [===========================>..] - ETA: 0s - loss: 0.0068 - acc: 0.9971\n",
      "Epoch 42: val_acc did not improve from 0.98958\n",
      "81/81 [==============================] - 1s 9ms/step - loss: 0.0065 - acc: 0.9973 - val_loss: 0.0686 - val_acc: 0.9896 - lr: 1.0000e-05\n",
      "Epoch 43/100\n",
      "76/81 [===========================>..] - ETA: 0s - loss: 0.0056 - acc: 0.9988\n",
      "Epoch 43: val_acc did not improve from 0.98958\n",
      "81/81 [==============================] - 1s 9ms/step - loss: 0.0057 - acc: 0.9985 - val_loss: 0.0687 - val_acc: 0.9896 - lr: 1.0000e-05\n",
      "Epoch 44/100\n",
      "78/81 [===========================>..] - ETA: 0s - loss: 0.0067 - acc: 0.9980\n",
      "Epoch 44: val_acc did not improve from 0.98958\n",
      "81/81 [==============================] - 1s 9ms/step - loss: 0.0075 - acc: 0.9977 - val_loss: 0.0681 - val_acc: 0.9896 - lr: 1.0000e-05\n",
      "Epoch 45/100\n",
      "76/81 [===========================>..] - ETA: 0s - loss: 0.0117 - acc: 0.9963\n",
      "Epoch 45: val_acc did not improve from 0.98958\n",
      "81/81 [==============================] - 1s 9ms/step - loss: 0.0118 - acc: 0.9961 - val_loss: 0.0679 - val_acc: 0.9896 - lr: 1.0000e-05\n",
      "Epoch 46/100\n",
      "76/81 [===========================>..] - ETA: 0s - loss: 0.0066 - acc: 0.9984\n",
      "Epoch 46: val_acc did not improve from 0.98958\n",
      "81/81 [==============================] - 1s 9ms/step - loss: 0.0063 - acc: 0.9985 - val_loss: 0.0688 - val_acc: 0.9896 - lr: 1.0000e-05\n",
      "Epoch 47/100\n",
      "77/81 [===========================>..] - ETA: 0s - loss: 0.0076 - acc: 0.9976\n",
      "Epoch 47: val_acc did not improve from 0.98958\n",
      "81/81 [==============================] - 1s 9ms/step - loss: 0.0075 - acc: 0.9977 - val_loss: 0.0693 - val_acc: 0.9861 - lr: 1.0000e-05\n",
      "Epoch 48/100\n",
      "81/81 [==============================] - ETA: 0s - loss: 0.0073 - acc: 0.9981\n",
      "Epoch 48: val_acc did not improve from 0.98958\n",
      "81/81 [==============================] - 1s 9ms/step - loss: 0.0073 - acc: 0.9981 - val_loss: 0.0698 - val_acc: 0.9896 - lr: 1.0000e-05\n",
      "Epoch 49/100\n",
      "78/81 [===========================>..] - ETA: 0s - loss: 0.0084 - acc: 0.9960\n",
      "Epoch 49: val_acc did not improve from 0.98958\n",
      "81/81 [==============================] - 1s 8ms/step - loss: 0.0082 - acc: 0.9961 - val_loss: 0.0703 - val_acc: 0.9896 - lr: 1.0000e-05\n",
      "Epoch 50/100\n",
      "77/81 [===========================>..] - ETA: 0s - loss: 0.0122 - acc: 0.9959\n",
      "Epoch 50: val_acc did not improve from 0.98958\n",
      "81/81 [==============================] - 1s 9ms/step - loss: 0.0117 - acc: 0.9961 - val_loss: 0.0701 - val_acc: 0.9896 - lr: 1.0000e-05\n",
      "Epoch 51/100\n",
      "75/81 [==========================>...] - ETA: 0s - loss: 0.0108 - acc: 0.9967\n",
      "Epoch 51: val_acc did not improve from 0.98958\n",
      "81/81 [==============================] - 1s 9ms/step - loss: 0.0105 - acc: 0.9965 - val_loss: 0.0697 - val_acc: 0.9896 - lr: 1.0000e-05\n",
      "Epoch 52/100\n",
      "77/81 [===========================>..] - ETA: 0s - loss: 0.0106 - acc: 0.9967\n",
      "Epoch 52: val_acc did not improve from 0.98958\n",
      "81/81 [==============================] - 1s 9ms/step - loss: 0.0104 - acc: 0.9969 - val_loss: 0.0689 - val_acc: 0.9861 - lr: 1.0000e-05\n",
      "Epoch 53/100\n",
      "77/81 [===========================>..] - ETA: 0s - loss: 0.0087 - acc: 0.9988\n",
      "Epoch 53: val_acc did not improve from 0.98958\n",
      "81/81 [==============================] - 1s 9ms/step - loss: 0.0087 - acc: 0.9988 - val_loss: 0.0696 - val_acc: 0.9896 - lr: 1.0000e-05\n",
      "Epoch 54/100\n",
      "78/81 [===========================>..] - ETA: 0s - loss: 0.0092 - acc: 0.9972\n",
      "Epoch 54: val_acc did not improve from 0.98958\n",
      "81/81 [==============================] - 1s 9ms/step - loss: 0.0090 - acc: 0.9973 - val_loss: 0.0705 - val_acc: 0.9896 - lr: 1.0000e-05\n",
      "Epoch 55/100\n",
      "77/81 [===========================>..] - ETA: 0s - loss: 0.0086 - acc: 0.9963\n",
      "Epoch 55: val_acc did not improve from 0.98958\n",
      "81/81 [==============================] - 1s 9ms/step - loss: 0.0084 - acc: 0.9965 - val_loss: 0.0702 - val_acc: 0.9896 - lr: 1.0000e-05\n",
      "Epoch 56/100\n",
      "78/81 [===========================>..] - ETA: 0s - loss: 0.0087 - acc: 0.9964\n",
      "Epoch 56: val_acc did not improve from 0.98958\n",
      "81/81 [==============================] - 1s 9ms/step - loss: 0.0085 - acc: 0.9965 - val_loss: 0.0710 - val_acc: 0.9896 - lr: 1.0000e-05\n",
      "Epoch 57/100\n",
      "78/81 [===========================>..] - ETA: 0s - loss: 0.0049 - acc: 0.9992\n",
      "Epoch 57: val_acc did not improve from 0.98958\n",
      "81/81 [==============================] - 1s 9ms/step - loss: 0.0047 - acc: 0.9992 - val_loss: 0.0715 - val_acc: 0.9896 - lr: 1.0000e-05\n",
      "Epoch 58/100\n",
      "78/81 [===========================>..] - ETA: 0s - loss: 0.0075 - acc: 0.9976\n",
      "Epoch 58: val_acc did not improve from 0.98958\n",
      "81/81 [==============================] - 1s 8ms/step - loss: 0.0073 - acc: 0.9977 - val_loss: 0.0723 - val_acc: 0.9896 - lr: 1.0000e-05\n",
      "Epoch 59/100\n",
      "77/81 [===========================>..] - ETA: 0s - loss: 0.0109 - acc: 0.9967\n",
      "Epoch 59: val_acc did not improve from 0.98958\n",
      "81/81 [==============================] - 1s 9ms/step - loss: 0.0105 - acc: 0.9969 - val_loss: 0.0721 - val_acc: 0.9896 - lr: 1.0000e-05\n",
      "Epoch 60/100\n",
      "77/81 [===========================>..] - ETA: 0s - loss: 0.0068 - acc: 0.9984\n",
      "Epoch 60: val_acc did not improve from 0.98958\n",
      "81/81 [==============================] - 1s 9ms/step - loss: 0.0069 - acc: 0.9981 - val_loss: 0.0720 - val_acc: 0.9896 - lr: 1.0000e-05\n",
      "Epoch 61/100\n",
      "78/81 [===========================>..] - ETA: 0s - loss: 0.0085 - acc: 0.9984\n",
      "Epoch 61: val_acc did not improve from 0.98958\n",
      "81/81 [==============================] - 1s 8ms/step - loss: 0.0082 - acc: 0.9985 - val_loss: 0.0727 - val_acc: 0.9896 - lr: 1.0000e-05\n",
      "Epoch 62/100\n",
      "78/81 [===========================>..] - ETA: 0s - loss: 0.0084 - acc: 0.9980\n",
      "Epoch 62: val_acc did not improve from 0.98958\n",
      "81/81 [==============================] - 1s 9ms/step - loss: 0.0083 - acc: 0.9981 - val_loss: 0.0730 - val_acc: 0.9896 - lr: 1.0000e-05\n",
      "Epoch 63/100\n",
      "77/81 [===========================>..] - ETA: 0s - loss: 0.0070 - acc: 0.9980\n",
      "Epoch 63: val_acc did not improve from 0.98958\n",
      "81/81 [==============================] - 1s 9ms/step - loss: 0.0076 - acc: 0.9977 - val_loss: 0.0736 - val_acc: 0.9896 - lr: 1.0000e-05\n",
      "Epoch 64/100\n",
      "78/81 [===========================>..] - ETA: 0s - loss: 0.0046 - acc: 0.9988\n",
      "Epoch 64: val_acc did not improve from 0.98958\n",
      "81/81 [==============================] - 1s 8ms/step - loss: 0.0045 - acc: 0.9988 - val_loss: 0.0739 - val_acc: 0.9896 - lr: 1.0000e-05\n",
      "Epoch 65/100\n",
      "78/81 [===========================>..] - ETA: 0s - loss: 0.0097 - acc: 0.9976\n",
      "Epoch 65: val_acc did not improve from 0.98958\n",
      "81/81 [==============================] - 1s 8ms/step - loss: 0.0093 - acc: 0.9977 - val_loss: 0.0739 - val_acc: 0.9861 - lr: 1.0000e-05\n",
      "Epoch 66/100\n",
      "78/81 [===========================>..] - ETA: 0s - loss: 0.0069 - acc: 0.9976\n",
      "Epoch 66: val_acc did not improve from 0.98958\n",
      "81/81 [==============================] - 1s 8ms/step - loss: 0.0067 - acc: 0.9977 - val_loss: 0.0743 - val_acc: 0.9896 - lr: 1.0000e-05\n",
      "Epoch 67/100\n",
      "78/81 [===========================>..] - ETA: 0s - loss: 0.0083 - acc: 0.9988\n",
      "Epoch 67: val_acc did not improve from 0.98958\n",
      "81/81 [==============================] - 1s 9ms/step - loss: 0.0081 - acc: 0.9988 - val_loss: 0.0753 - val_acc: 0.9896 - lr: 1.0000e-05\n",
      "Epoch 68/100\n",
      "79/81 [============================>.] - ETA: 0s - loss: 0.0103 - acc: 0.9960\n",
      "Epoch 68: val_acc did not improve from 0.98958\n",
      "81/81 [==============================] - 1s 9ms/step - loss: 0.0105 - acc: 0.9957 - val_loss: 0.0739 - val_acc: 0.9896 - lr: 1.0000e-05\n",
      "Epoch 69/100\n",
      "77/81 [===========================>..] - ETA: 0s - loss: 0.0080 - acc: 0.9980\n",
      "Epoch 69: val_acc did not improve from 0.98958\n",
      "81/81 [==============================] - 1s 9ms/step - loss: 0.0079 - acc: 0.9981 - val_loss: 0.0728 - val_acc: 0.9896 - lr: 1.0000e-05\n",
      "Epoch 70/100\n",
      "75/81 [==========================>...] - ETA: 0s - loss: 0.0066 - acc: 0.9979\n",
      "Epoch 70: val_acc did not improve from 0.98958\n",
      "81/81 [==============================] - 1s 9ms/step - loss: 0.0063 - acc: 0.9981 - val_loss: 0.0732 - val_acc: 0.9896 - lr: 1.0000e-05\n",
      "Epoch 71/100\n",
      "77/81 [===========================>..] - ETA: 0s - loss: 0.0087 - acc: 0.9984\n",
      "Epoch 71: val_acc did not improve from 0.98958\n",
      "81/81 [==============================] - 1s 9ms/step - loss: 0.0085 - acc: 0.9985 - val_loss: 0.0724 - val_acc: 0.9861 - lr: 1.0000e-05\n",
      "Epoch 72/100\n",
      "78/81 [===========================>..] - ETA: 0s - loss: 0.0058 - acc: 0.9976\n",
      "Epoch 72: val_acc did not improve from 0.98958\n",
      "81/81 [==============================] - 1s 8ms/step - loss: 0.0057 - acc: 0.9977 - val_loss: 0.0725 - val_acc: 0.9896 - lr: 1.0000e-05\n",
      "Epoch 73/100\n",
      "78/81 [===========================>..] - ETA: 0s - loss: 0.0054 - acc: 0.9992\n",
      "Epoch 73: val_acc did not improve from 0.98958\n",
      "81/81 [==============================] - 1s 8ms/step - loss: 0.0060 - acc: 0.9988 - val_loss: 0.0728 - val_acc: 0.9896 - lr: 1.0000e-05\n",
      "Epoch 74/100\n",
      "78/81 [===========================>..] - ETA: 0s - loss: 0.0086 - acc: 0.9968\n",
      "Epoch 74: val_acc did not improve from 0.98958\n",
      "81/81 [==============================] - 1s 9ms/step - loss: 0.0084 - acc: 0.9969 - val_loss: 0.0721 - val_acc: 0.9861 - lr: 1.0000e-05\n",
      "Epoch 75/100\n",
      "78/81 [===========================>..] - ETA: 0s - loss: 0.0069 - acc: 0.9976\n",
      "Epoch 75: val_acc did not improve from 0.98958\n",
      "81/81 [==============================] - 1s 9ms/step - loss: 0.0068 - acc: 0.9977 - val_loss: 0.0719 - val_acc: 0.9896 - lr: 1.0000e-05\n",
      "Epoch 76/100\n",
      "78/81 [===========================>..] - ETA: 0s - loss: 0.0099 - acc: 0.9964\n",
      "Epoch 76: val_acc did not improve from 0.98958\n",
      "81/81 [==============================] - 1s 8ms/step - loss: 0.0097 - acc: 0.9965 - val_loss: 0.0730 - val_acc: 0.9896 - lr: 1.0000e-05\n",
      "Epoch 77/100\n",
      "78/81 [===========================>..] - ETA: 0s - loss: 0.0083 - acc: 0.9976\n",
      "Epoch 77: val_acc did not improve from 0.98958\n",
      "81/81 [==============================] - 1s 9ms/step - loss: 0.0087 - acc: 0.9969 - val_loss: 0.0722 - val_acc: 0.9896 - lr: 1.0000e-05\n",
      "Epoch 78/100\n",
      "78/81 [===========================>..] - ETA: 0s - loss: 0.0049 - acc: 0.9984\n",
      "Epoch 78: val_acc did not improve from 0.98958\n",
      "81/81 [==============================] - 1s 8ms/step - loss: 0.0061 - acc: 0.9981 - val_loss: 0.0735 - val_acc: 0.9896 - lr: 1.0000e-05\n",
      "Epoch 79/100\n",
      "78/81 [===========================>..] - ETA: 0s - loss: 0.0061 - acc: 0.9976\n",
      "Epoch 79: val_acc did not improve from 0.98958\n",
      "81/81 [==============================] - 1s 8ms/step - loss: 0.0061 - acc: 0.9977 - val_loss: 0.0738 - val_acc: 0.9896 - lr: 1.0000e-05\n",
      "Epoch 80/100\n",
      "78/81 [===========================>..] - ETA: 0s - loss: 0.0077 - acc: 0.9984\n",
      "Epoch 80: val_acc did not improve from 0.98958\n",
      "81/81 [==============================] - 1s 8ms/step - loss: 0.0075 - acc: 0.9985 - val_loss: 0.0742 - val_acc: 0.9896 - lr: 1.0000e-05\n",
      "Epoch 81/100\n",
      "78/81 [===========================>..] - ETA: 0s - loss: 0.0075 - acc: 0.9980\n",
      "Epoch 81: val_acc did not improve from 0.98958\n",
      "81/81 [==============================] - 1s 8ms/step - loss: 0.0073 - acc: 0.9981 - val_loss: 0.0731 - val_acc: 0.9896 - lr: 1.0000e-05\n",
      "Epoch 82/100\n",
      "77/81 [===========================>..] - ETA: 0s - loss: 0.0059 - acc: 0.9980\n",
      "Epoch 82: val_acc did not improve from 0.98958\n",
      "81/81 [==============================] - 1s 8ms/step - loss: 0.0059 - acc: 0.9981 - val_loss: 0.0745 - val_acc: 0.9896 - lr: 1.0000e-05\n",
      "Epoch 83/100\n",
      "77/81 [===========================>..] - ETA: 0s - loss: 0.0100 - acc: 0.9959\n",
      "Epoch 83: val_acc did not improve from 0.98958\n",
      "81/81 [==============================] - 1s 8ms/step - loss: 0.0104 - acc: 0.9957 - val_loss: 0.0727 - val_acc: 0.9896 - lr: 1.0000e-05\n",
      "Epoch 84/100\n",
      "77/81 [===========================>..] - ETA: 0s - loss: 0.0043 - acc: 0.9988\n",
      "Epoch 84: val_acc did not improve from 0.98958\n",
      "81/81 [==============================] - 1s 9ms/step - loss: 0.0042 - acc: 0.9988 - val_loss: 0.0726 - val_acc: 0.9896 - lr: 1.0000e-05\n",
      "Epoch 85/100\n",
      "78/81 [===========================>..] - ETA: 0s - loss: 0.0084 - acc: 0.9972\n",
      "Epoch 85: val_acc did not improve from 0.98958\n",
      "81/81 [==============================] - 1s 9ms/step - loss: 0.0086 - acc: 0.9969 - val_loss: 0.0720 - val_acc: 0.9896 - lr: 1.0000e-05\n",
      "Epoch 86/100\n",
      "76/81 [===========================>..] - ETA: 0s - loss: 0.0075 - acc: 0.9979\n",
      "Epoch 86: val_acc did not improve from 0.98958\n",
      "81/81 [==============================] - 1s 9ms/step - loss: 0.0075 - acc: 0.9977 - val_loss: 0.0724 - val_acc: 0.9896 - lr: 1.0000e-05\n",
      "Epoch 87/100\n",
      "81/81 [==============================] - ETA: 0s - loss: 0.0050 - acc: 0.9988\n",
      "Epoch 87: val_acc did not improve from 0.98958\n",
      "81/81 [==============================] - 1s 9ms/step - loss: 0.0050 - acc: 0.9988 - val_loss: 0.0727 - val_acc: 0.9896 - lr: 1.0000e-05\n",
      "Epoch 88/100\n",
      "77/81 [===========================>..] - ETA: 0s - loss: 0.0055 - acc: 0.9980\n",
      "Epoch 88: val_acc did not improve from 0.98958\n",
      "81/81 [==============================] - 1s 9ms/step - loss: 0.0062 - acc: 0.9977 - val_loss: 0.0734 - val_acc: 0.9896 - lr: 1.0000e-05\n",
      "Epoch 89/100\n",
      "78/81 [===========================>..] - ETA: 0s - loss: 0.0049 - acc: 0.9992\n",
      "Epoch 89: val_acc did not improve from 0.98958\n",
      "81/81 [==============================] - 1s 9ms/step - loss: 0.0049 - acc: 0.9992 - val_loss: 0.0723 - val_acc: 0.9896 - lr: 1.0000e-05\n",
      "Epoch 90/100\n",
      "77/81 [===========================>..] - ETA: 0s - loss: 0.0087 - acc: 0.9976\n",
      "Epoch 90: val_acc did not improve from 0.98958\n",
      "81/81 [==============================] - 1s 9ms/step - loss: 0.0083 - acc: 0.9977 - val_loss: 0.0720 - val_acc: 0.9896 - lr: 1.0000e-05\n",
      "Epoch 91/100\n",
      "78/81 [===========================>..] - ETA: 0s - loss: 0.0054 - acc: 0.9976\n",
      "Epoch 91: val_acc did not improve from 0.98958\n",
      "81/81 [==============================] - 1s 8ms/step - loss: 0.0053 - acc: 0.9977 - val_loss: 0.0719 - val_acc: 0.9896 - lr: 1.0000e-05\n",
      "Epoch 92/100\n",
      "78/81 [===========================>..] - ETA: 0s - loss: 0.0083 - acc: 0.9972\n",
      "Epoch 92: val_acc did not improve from 0.98958\n",
      "81/81 [==============================] - 1s 9ms/step - loss: 0.0083 - acc: 0.9973 - val_loss: 0.0740 - val_acc: 0.9896 - lr: 1.0000e-05\n",
      "Epoch 93/100\n",
      "78/81 [===========================>..] - ETA: 0s - loss: 0.0063 - acc: 0.9972\n",
      "Epoch 93: val_acc did not improve from 0.98958\n",
      "81/81 [==============================] - 1s 8ms/step - loss: 0.0063 - acc: 0.9973 - val_loss: 0.0735 - val_acc: 0.9896 - lr: 1.0000e-05\n",
      "Epoch 94/100\n",
      "76/81 [===========================>..] - ETA: 0s - loss: 0.0040 - acc: 0.9996\n",
      "Epoch 94: val_acc did not improve from 0.98958\n",
      "81/81 [==============================] - 1s 9ms/step - loss: 0.0038 - acc: 0.9996 - val_loss: 0.0740 - val_acc: 0.9896 - lr: 1.0000e-05\n",
      "Epoch 95/100\n",
      "77/81 [===========================>..] - ETA: 0s - loss: 0.0066 - acc: 0.9980\n",
      "Epoch 95: val_acc did not improve from 0.98958\n",
      "81/81 [==============================] - 1s 9ms/step - loss: 0.0065 - acc: 0.9981 - val_loss: 0.0741 - val_acc: 0.9896 - lr: 1.0000e-05\n",
      "Epoch 96/100\n",
      "77/81 [===========================>..] - ETA: 0s - loss: 0.0095 - acc: 0.9976\n",
      "Epoch 96: val_acc did not improve from 0.98958\n",
      "81/81 [==============================] - 1s 9ms/step - loss: 0.0093 - acc: 0.9977 - val_loss: 0.0739 - val_acc: 0.9896 - lr: 1.0000e-05\n",
      "Epoch 97/100\n",
      "77/81 [===========================>..] - ETA: 0s - loss: 0.0069 - acc: 0.9967\n",
      "Epoch 97: val_acc did not improve from 0.98958\n",
      "81/81 [==============================] - 1s 9ms/step - loss: 0.0066 - acc: 0.9969 - val_loss: 0.0736 - val_acc: 0.9896 - lr: 1.0000e-05\n",
      "Epoch 98/100\n",
      "78/81 [===========================>..] - ETA: 0s - loss: 0.0072 - acc: 0.9980\n",
      "Epoch 98: val_acc did not improve from 0.98958\n",
      "81/81 [==============================] - 1s 9ms/step - loss: 0.0070 - acc: 0.9981 - val_loss: 0.0727 - val_acc: 0.9896 - lr: 1.0000e-05\n",
      "Epoch 99/100\n",
      "78/81 [===========================>..] - ETA: 0s - loss: 0.0094 - acc: 0.9968\n",
      "Epoch 99: val_acc did not improve from 0.98958\n",
      "81/81 [==============================] - 1s 9ms/step - loss: 0.0092 - acc: 0.9969 - val_loss: 0.0715 - val_acc: 0.9896 - lr: 1.0000e-05\n",
      "Epoch 100/100\n",
      "78/81 [===========================>..] - ETA: 0s - loss: 0.0097 - acc: 0.9964\n",
      "Epoch 100: val_acc did not improve from 0.98958\n",
      "81/81 [==============================] - 1s 8ms/step - loss: 0.0094 - acc: 0.9965 - val_loss: 0.0701 - val_acc: 0.9896 - lr: 1.0000e-05\n"
     ]
    }
   ],
   "source": [
    "start_time = datetime.datetime.now().strftime('%Y_%m_%d_%H_%M_%S')\n",
    "with tf.device(\"/device:GPU:0\"):\n",
    "    hist=model.fit(train_generator, epochs=100, validation_data=val_generator,\n",
    "              callbacks=[ModelCheckpoint('models/%s.h5' % (start_time), monitor='val_acc', save_best_only=True, mode='max', verbose=1),\n",
    "            ReduceLROnPlateau(monitor='val_acc', factor=0.2, patience=10, verbose=1, mode='auto', min_lr=1e-05)\n",
    "        ]\n",
    "    )"
   ]
  },
  {
   "cell_type": "markdown",
   "metadata": {},
   "source": [
    "# Evaluating model"
   ]
  },
  {
   "cell_type": "code",
   "execution_count": 10,
   "metadata": {},
   "outputs": [
    {
     "name": "stdout",
     "output_type": "stream",
     "text": [
      "9/9 [==============================] - 0s 16ms/step\n",
      "test acc: 0.9895833333333334\n"
     ]
    }
   ],
   "source": [
    "model = load_model('models/%s.h5' % (start_time))\n",
    "\n",
    "y_pred = model.predict(x_val/255.)\n",
    "y_pred_logical = (y_pred > 0.5).astype(int)\n",
    "\n",
    "print ('test acc: %s' % accuracy_score(y_val, y_pred_logical))"
   ]
  },
  {
   "cell_type": "code",
   "execution_count": 11,
   "metadata": {},
   "outputs": [
    {
     "data": {
      "image/png": "[encoded data removed]",
      "text/plain": [
       "<Figure size 640x480 with 1 Axes>"
      ]
     },
     "metadata": {},
     "output_type": "display_data"
    }
   ],
   "source": [
    "ax = sns.histplot(y_pred, kde=False)"
   ]
  },
  {
   "cell_type": "markdown",
   "metadata": {},
   "source": [
    "# Visualizing Train,Test--->Accuracy,Loss"
   ]
  },
  {
   "cell_type": "code",
   "execution_count": 12,
   "metadata": {},
   "outputs": [
    {
     "data": {
      "text/plain": [
       "<Figure size 640x480 with 0 Axes>"
      ]
     },
     "execution_count": 12,
     "metadata": {},
     "output_type": "execute_result"
    },
    {
     "data": {
      "image/png": "[encoded data removed]",
      "text/plain": [
       "<Figure size 640x480 with 1 Axes>"
      ]
     },
     "metadata": {},
     "output_type": "display_data"
    },
    {
     "data": {
      "image/png": "[encoded data removed]",
      "text/plain": [
       "<Figure size 640x480 with 1 Axes>"
      ]
     },
     "metadata": {},
     "output_type": "display_data"
    },
    {
     "data": {
      "text/plain": [
       "<Figure size 640x480 with 0 Axes>"
      ]
     },
     "metadata": {},
     "output_type": "display_data"
    }
   ],
   "source": [
    "# visualizing losses and accuracy\n",
    "%matplotlib inline\n",
    "\n",
    "train_loss=hist.history['loss']\n",
    "val_loss=hist.history['val_loss']\n",
    "train_acc=hist.history['acc']\n",
    "val_acc=hist.history['val_acc']\n",
    "\n",
    "epochs = range(len(train_acc))\n",
    "\n",
    "plt.plot(epochs,train_loss,'r', label='train_loss')\n",
    "plt.plot(epochs,val_loss,'b', label='val_loss')\n",
    "plt.title('train_loss vs val_loss')\n",
    "plt.legend()\n",
    "plt.figure()\n",
    "\n",
    "plt.plot(epochs,train_acc,'r', label='train_acc')\n",
    "plt.plot(epochs,val_acc,'b', label='val_acc')\n",
    "plt.title('train_acc vs val_acc')\n",
    "plt.legend()\n",
    "plt.figure()"
   ]
  },
  {
   "cell_type": "markdown",
   "metadata": {},
   "source": [
    "# Confusion Matrix"
   ]
  },
  {
   "cell_type": "code",
   "execution_count": 13,
   "metadata": {},
   "outputs": [
    {
     "data": {
      "image/png": "[encoded data removed]",
      "text/plain": [
       "<Figure size 500x500 with 1 Axes>"
      ]
     },
     "metadata": {},
     "output_type": "display_data"
    }
   ],
   "source": [
    "cm = confusion_matrix(y_val, y_pred_logical)\n",
    "plt.figure(figsize = (5,5))\n",
    "sns.heatmap(cm, annot = True,cmap='Greys',cbar=False,linewidth=2,fmt='d')\n",
    "plt.title('CNN Emotion Classify')\n",
    "plt.ylabel('True class')\n",
    "plt.xlabel('Prediction class')\n",
    "plt.show()"
   ]
  },
  {
   "cell_type": "markdown",
   "metadata": {},
   "source": [
    "# Classification Report"
   ]
  },
  {
   "cell_type": "code",
   "execution_count": 14,
   "metadata": {
    "id": "MR4pneB5A3_P"
   },
   "outputs": [
    {
     "name": "stdout",
     "output_type": "stream",
     "text": [
      "              precision    recall  f1-score   support\n",
      "\n",
      "         0.0       0.99      0.99      0.99       137\n",
      "         1.0       0.99      0.99      0.99       151\n",
      "\n",
      "    accuracy                           0.99       288\n",
      "   macro avg       0.99      0.99      0.99       288\n",
      "weighted avg       0.99      0.99      0.99       288\n",
      "\n"
     ]
    }
   ],
   "source": [
    "print(classification_report(y_val, y_pred_logical))"
   ]
  },
  {
   "cell_type": "markdown",
   "metadata": {},
   "source": [
    "# ROC Curve"
   ]
  },
  {
   "cell_type": "code",
   "execution_count": 15,
   "metadata": {},
   "outputs": [
    {
     "data": {
      "image/png": "[encoded data removed]",
      "text/plain": [
       "<Figure size 640x480 with 1 Axes>"
      ]
     },
     "metadata": {},
     "output_type": "display_data"
    }
   ],
   "source": [
    "fpr = dict()\n",
    "tpr = dict()\n",
    "roc_auc = dict()\n",
    "\n",
    "fpr, tpr, _=roc_curve(y_val, y_pred)\n",
    "plt.plot(fpr, tpr,label='ROC')\n",
    "    \n",
    "\n",
    "plt.plot([0, 1], [0, 1], 'k--', lw=2)\n",
    "plt.xlim([0, 1.0])\n",
    "plt.ylim([0.0, 1.05])\n",
    "plt.xlabel('False Positive Rate')\n",
    "plt.ylabel('True Positive Rate')\n",
    "plt.title('Receiver Operating Characteristic')\n",
    "plt.legend()\n",
    "plt.show()"
   ]
  },
  {
   "cell_type": "code",
   "execution_count": 16,
   "metadata": {},
   "outputs": [
    {
     "name": "stdout",
     "output_type": "stream",
     "text": [
      "ROC-AUC Score  =  0.9936191811282448\n"
     ]
    }
   ],
   "source": [
    "print(\"ROC-AUC Score  = \" ,roc_auc_score(y_val , y_pred))"
   ]
  },
  {
   "cell_type": "code",
   "execution_count": null,
   "metadata": {},
   "outputs": [],
   "source": []
  }
 ],
 "metadata": {
  "accelerator": "GPU",
  "colab": {
   "authorship_tag": "ABX9TyMuYRAdSV+w5gasQLQy+OcQ",
   "collapsed_sections": [],
   "mount_file_id": "1nxVkKeMPg-An4K8q5Pz3mFMWlNV82wei",
   "provenance": []
  },
  "gpuClass": "standard",
  "kernelspec": {
   "display_name": "Python 3 (ipykernel)",
   "language": "python",
   "name": "python3"
  },
  "language_info": {
   "codemirror_mode": {
    "name": "ipython",
    "version": 3
   },
   "file_extension": ".py",
   "mimetype": "text/x-python",
   "name": "python",
   "nbconvert_exporter": "python",
   "pygments_lexer": "ipython3",
   "version": "3.9.13"
  }
 },
 "nbformat": 4,
 "nbformat_minor": 4
}
